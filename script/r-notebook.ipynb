{
  "cells": [
    {
      "metadata": {
        "scrolled": true,
        "_uuid": "9c3f72c764b32e01008185fc44fe46de977bdd50",
        "trusted": false,
        "_cell_guid": "358e6e79-cc96-43dc-81e3-8f14446eed90"
      },
      "cell_type": "code",
      "source": "## Loading required packages:\n\npackages <- c(\"tm\", \"ggplot2\", \"wordcloud\", \"cluster\", \"stringr\", \"slam\", \"dplyr\")\n\nlapply(packages, FUN = require, character.only = T)\n",
      "execution_count": null,
      "outputs": []
    },
    {
      "metadata": {
        "scrolled": true,
        "_uuid": "ba63f89140944ff6d071f0e21711c19fbad55d68",
        "trusted": false,
        "_cell_guid": "0c54c644-5bc0-490a-8ee6-5a1f56245689"
      },
      "cell_type": "code",
      "source": "##Loading the R-question data and considering only the question titles (col 5) as interest of analysis:\n## Considering only a small set of questions (10k) due to memory issues. There are total of ~190k questions.\nr_que <- read.csv(\"../input/Questions.csv\", nrow = 2000)\nque_titles <- r_que[,5] %>% \n              as.character() %>%\n              tolower()\nhead(que_titles)\n",
      "execution_count": null,
      "outputs": []
    },
    {
      "metadata": {
        "_uuid": "9fef41982c0d180c88fed6d149ac2b9cc7956bce",
        "trusted": false,
        "_cell_guid": "640da9ff-c218-4305-81b2-5ca564e59ad3"
      },
      "cell_type": "code",
      "source": "##Converting the data in a Corpus vector to analyse further using tm-package:\ndocs <- Corpus(VectorSource(que_titles))\nfor (doc in docs[1:5]){\n    print (doc)\n}",
      "execution_count": null,
      "outputs": []
    },
    {
      "metadata": {
        "_uuid": "4b282b0de1350c6e96de8405d45cff3d601e013d",
        "trusted": false,
        "_cell_guid": "493a0bfc-c634-4cec-9a7a-4e42936ecdf1"
      },
      "cell_type": "code",
      "source": "## Remove stopwords, some other less-important words by creating customized dictionary, and punctuation:\ndocs_wo_sw <- tm_map(x = docs, FUN = removeWords, stopwords(\"english\"))\ndocs_wo_sw <- tm_map(x = docs_wo_sw, FUN = removeWords, c(\"What\", \"How\", \"Is\", \"Can\", \"can\",\"using\", \"Does\"))\ndocs_wo_sw <- tm_map(x = docs_wo_sw, FUN = removePunctuation)\n# docs_wo_sw <- tm_map(x = docs_wo_sw, FUN = stemDocument, language = 'english')\n\n##Removing whitespaces:\ndocs_wo_sw <- tm_map(docs_wo_sw, stripWhitespace)\n\ndocs_wo_sw[[1]]$content",
      "execution_count": null,
      "outputs": []
    },
    {
      "metadata": {
        "scrolled": false,
        "_uuid": "1032dcff4cbc725ee80b4cd934288dd1bc1ecc0d",
        "trusted": false,
        "_cell_guid": "3f967a79-539f-44a6-9c2b-ed0c78172282"
      },
      "cell_type": "code",
      "source": "#Creating a document term matrix w/o using TF-IDF:\ndtm <- DocumentTermMatrix(docs_wo_sw)\n\n#Organize the data/terms by frequency:\ndtm_freq <- colSums(as.matrix(dtm))\nlength(dtm_freq)\n\n##Creating a dataframe for this o/p (just an alternative view):\ndtm_freq_df <- data.frame(Keyword = names(dtm_freq), Freq = dtm_freq)\n\n##Ordering based on frequency:\ndtm_freq_df <- dtm_freq_df[with(dtm_freq_df, order(-Freq)), ]\n\n##Plotting data:\np1 <- ggplot(data = head(dtm_freq_df, 20), aes(x = Keyword, y =  Freq, fill = Freq)) +\n      geom_bar(stat = \"identity\") +\n      theme(axis.text.x = element_text(angle = 45, hjust = 1, size = 15))\np1",
      "execution_count": null,
      "outputs": []
    },
    {
      "metadata": {
        "_uuid": "9f3ffa22c7d3d5367b61c54606ef47ce409bcc18",
        "trusted": false,
        "_cell_guid": "dfa68dd7-8cd1-4b89-a0eb-6c8249a1f049"
      },
      "cell_type": "code",
      "source": "##Creating a wordcloud:\nset.seed(10)\nwordcloud(names(dtm_freq), freq = dtm_freq, max.words = 150, colors = brewer.pal(5, \"Dark2\"))",
      "execution_count": null,
      "outputs": []
    },
    {
      "metadata": {
        "_uuid": "0730ba256c50985246495e36514a0040ca672505",
        "trusted": false,
        "_cell_guid": "9257f896-e0ef-48c4-9e94-086ab147a764"
      },
      "cell_type": "code",
      "source": "#Creating a document term matrix using TF-IDF:\ndtm <- DocumentTermMatrix(docs_wo_sw, control = list(weighting = weightTfIdf))\ndtm_dense <- removeSparseTerms(dtm, 0.9999)\ndim(dtm_dense)",
      "execution_count": null,
      "outputs": []
    },
    {
      "metadata": {
        "scrolled": true,
        "_uuid": "3ffda06c721a3ffbd07a82a4db3ca034595359d2",
        "trusted": false,
        "_cell_guid": "56361d33-9928-4b63-a624-4d3126e51fec"
      },
      "cell_type": "code",
      "source": "## Checking a small subset of DTM:\ninspect(dtm_dense[1:15,1:10])\ncolnames(dtm_dense)[0:50]",
      "execution_count": null,
      "outputs": []
    },
    {
      "metadata": {
        "_uuid": "5fea7ff4c02b5322604a2d81246277592e148c8a",
        "trusted": false,
        "_cell_guid": "cd9d0b8e-bda2-49df-b529-8403d2b98b31"
      },
      "cell_type": "code",
      "source": "## Get similarity among documents (i.e. R-questions) using cosine-similarity as a metric:\ntdm <- t(dtm_dense)\ntdm_cos_sim <- crossprod_simple_triplet_matrix(tdm)/(sqrt(col_sums(tdm^2) %*% t(col_sums(tdm^2))))\ndim(tdm_cos_sim)",
      "execution_count": null,
      "outputs": []
    },
    {
      "metadata": {
        "_uuid": "9c2c87e059773dbdc7a23b054d91372a7de21be6",
        "trusted": false,
        "_cell_guid": "1d30d9e5-f5e4-456e-936f-a0aee738d853"
      },
      "cell_type": "code",
      "source": "## Let's find the similar questions based on cosine-similarity:\nsort(tdm_cos_sim[10,], decreasing = T)[1:10]\n\ndocs[[10]]$content\nque_titles[10]\n\ndocs[[343]]$content\ndocs[[6362]]$content\ndocs[[5532]]$content\n",
      "execution_count": null,
      "outputs": []
    },
    {
      "metadata": {
        "_uuid": "8fd1a655e537753f76e48b9cbb065d7e36d64a79",
        "trusted": false,
        "_cell_guid": "d3217362-f0e7-45fb-a99a-0a928e2c3813"
      },
      "cell_type": "code",
      "source": "sort(tdm_cos_sim[4030,], decreasing = T)[1:10]\n\ndocs[[4030]]$content\nque_titles[4030]\n\ndocs[[163]]$content",
      "execution_count": null,
      "outputs": []
    },
    {
      "metadata": {
        "_uuid": "2190584c38d67f1c561d7a9bd07888e2029e5ab6",
        "trusted": false,
        "_cell_guid": "3d4775a0-6628-4856-b4e9-c2588856c0a5"
      },
      "cell_type": "code",
      "source": "sort(tdm_cos_sim[101,], decreasing = T)[1:10]\n\ndocs[[101]]$content\ndocs[[5294]]$content\ndocs[[7498]]$content",
      "execution_count": null,
      "outputs": []
    },
    {
      "metadata": {
        "_uuid": "5104d28c4cf7f4f1a86b126c405b242c81d6850a",
        "trusted": false,
        "_cell_guid": "c6e71276-5e87-4c76-898b-9556f04cb52c"
      },
      "cell_type": "code",
      "source": "new_que <- 'how to sort dataframe in r'\n\n## Find relevant questions to new question:\nget_similar_questions <- function(new_que = new_que, trained_dtm = dtm_dense, available_ques = que_titles){\n\n    doc_new <- Corpus(VectorSource(new_que))\n\n    docs_new <- tm_map(x = doc_new, FUN = removeWords, c(\"What\", \"How\", \"Is\", \"Can\", \"can\",\"using\", \"Does\", stopwords(\"english\")))\n    docs_new <- tm_map(x = docs_new, FUN = removePunctuation)\n    docs_new <- tm_map(x = docs_new, FUN = stripWhitespace)\n\n    dtm_new <- DocumentTermMatrix(docs_new)\n    terms <- as.vector(c(colnames(dtm_new)))\n\n    temp_data <- as.data.frame(as.matrix(trained_dtm[, intersect(colnames(trained_dtm), terms)]))\n#     temp_data <- temp_data[order(temp_data[terms[2]], temp_data[terms[1]], decreasing = T),]\n    temp_data <- temp_data[do.call(order, c(temp_data[, match(terms, names(temp_data))], list(decreasing = T))),]\n    inds <- as.numeric(rownames(temp_data))[1:10]\n\n    print ('Most relevant questions are:')\n    for (i in inds){\n        print (available_ques[i])\n    }\n    \n   } ",
      "execution_count": null,
      "outputs": []
    },
    {
      "metadata": {
        "_uuid": "5be96effc09d03e437ac0a534b732f9a8104b849",
        "trusted": false,
        "_cell_guid": "50ce28c8-db71-4e8d-bbe2-90fdaec82c8b"
      },
      "cell_type": "code",
      "source": "get_similar_questions(new_que = 'how to filter dataframe in r')",
      "execution_count": null,
      "outputs": []
    },
    {
      "metadata": {
        "scrolled": true,
        "_uuid": "c4634fdfb24db350cc370b9158312e39ce39b7c4",
        "trusted": false,
        "_cell_guid": "526c87b0-8a4b-418f-9f52-37ecdf0b854c"
      },
      "cell_type": "code",
      "source": "get_similar_questions(new_que = 'nested for loop in r')",
      "execution_count": null,
      "outputs": []
    },
    {
      "metadata": {
        "_uuid": "c18e677ecde734213169559e172167a288013a6f",
        "trusted": false,
        "_cell_guid": "81359730-bf3d-4ae2-8b2f-875ac03141e9"
      },
      "cell_type": "code",
      "source": "get_similar_questions(new_que = 'how to plot barplot in ggplot r')",
      "execution_count": null,
      "outputs": []
    },
    {
      "metadata": {
        "_uuid": "fef60f677e0198721fff0ee4c392e6023448904b",
        "trusted": false,
        "_cell_guid": "c44f9698-dbc0-4e78-99ab-4294d4cd4c53"
      },
      "cell_type": "code",
      "source": "",
      "execution_count": null,
      "outputs": []
    }
  ],
  "metadata": {
    "kernelspec": {
      "display_name": "R",
      "language": "R",
      "name": "ir"
    },
    "language_info": {
      "mimetype": "text/x-r-source",
      "version": "3.4.2",
      "name": "R",
      "pygments_lexer": "r",
      "file_extension": ".r",
      "codemirror_mode": "r"
    }
  },
  "nbformat": 4,
  "nbformat_minor": 1
}